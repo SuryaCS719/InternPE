{
 "cells": [
  {
   "cell_type": "markdown",
   "metadata": {},
   "source": [
    "## Task-2 Digital CLock"
   ]
  },
  {
   "cell_type": "code",
   "execution_count": null,
   "metadata": {},
   "outputs": [],
   "source": [
    "from tkinter import *\n",
    "from tkinter.ttk import *\n",
    "from datetime import datetime\n",
    "\n",
    "\n",
    "# window configuration \n",
    "window = Tk()\n",
    "window.title(\" DIGITAL CLOCK\")\n",
    "window.geometry('400x150')\n",
    "\n",
    "bg_color = \"#faf9f5\"\n",
    "f_color = \"#34b1eb\"\n",
    "\n",
    "window.resizable(width=True, height=True)\n",
    "window.configure(bg=bg_color)\n",
    "\n",
    "\n",
    "def clock():\n",
    "    time = datetime.now()\n",
    "    hour = time.strftime('%H:%M:%S ')\n",
    "    weekday = time.strftime('%A')\n",
    "    day = time.day\n",
    "    month = time.strftime('%b')\n",
    "    year = time.strftime('%y')\n",
    "    l1.configure(text=hour)\n",
    "    l1.after(1000, clock)\n",
    "    l2.configure(text=weekday + \"   \" + str(day) +\n",
    "                 \"/\" + str(month) + \"/\" + str(year))\n",
    "\n",
    "\n",
    "l1 = Label(window, text=\"12:49:05\", font=(\n",
    "    \"ds-digital\", 80), background=bg_color)\n",
    "l1.grid(row=0, column=0, padx=3, sticky=NW)\n",
    "\n",
    "\n",
    "l2 = Label(window, text=\"Saturday 22/05/23\",\n",
    "           font=(\"ds-digital\", 20), background=bg_color,foreground=f_color)\n",
    "l2.grid(row=1, column=0, padx=3, sticky=NW)\n",
    "\n",
    "\n",
    "clock()\n",
    "\n",
    "\n",
    "window.mainloop()"
   ]
  },
  {
   "cell_type": "code",
   "execution_count": null,
   "metadata": {},
   "outputs": [],
   "source": []
  }
 ],
 "metadata": {
  "kernelspec": {
   "display_name": "Python 3",
   "language": "python",
   "name": "python3"
  },
  "language_info": {
   "codemirror_mode": {
    "name": "ipython",
    "version": 3
   },
   "file_extension": ".py",
   "mimetype": "text/x-python",
   "name": "python",
   "nbconvert_exporter": "python",
   "pygments_lexer": "ipython3",
   "version": "3.8.5"
  }
 },
 "nbformat": 4,
 "nbformat_minor": 4
}
